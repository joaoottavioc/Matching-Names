{
 "cells": [
  {
   "cell_type": "code",
   "execution_count": 1,
   "metadata": {},
   "outputs": [],
   "source": [
    "from unicodedata import normalize"
   ]
  },
  {
   "cell_type": "code",
   "execution_count": 2,
   "metadata": {},
   "outputs": [],
   "source": [
    "#Define a função para remoção de acentos\n",
    "def remover_acentos(txt):\n",
    "    return normalize('NFKD', txt).encode('ASCII', 'ignore').decode('ASCII')\n",
    "\n",
    "#Simula a base de clientes para consulta\n",
    "lista_retorno = ['Eru Iluvatar', \n",
    "                 'Fiodor Dostoievski',\n",
    "                 'Ligia Andrada e Silva', \n",
    "                 'Luis Augusto de Sampaio Arruda', \n",
    "                 'César Augusto Andrade de Castro',\n",
    "                 'Katerina Aleksandrovna', \n",
    "                 'César Antonio de Castro',\n",
    "                 'Paulo Matias', \n",
    "                 'Paulo Silva', \n",
    "                 'Sergio Moro', \n",
    "                 'Feanor D', \n",
    "                 'Camilla Silva', \n",
    "                 'Ligia Ligan',\n",
    "                 'Celso de Mello', \n",
    "                 'Augusto dos Anjos',\n",
    "                 'Ricardo Reis', \n",
    "                 'Alexei Alekssandrocich', \n",
    "                 'Anna Arkadyevna', \n",
    "                 'Dimitri Constantine Levin']\n",
    "\n",
    "#Itera a função de remoção de acentos em toda a base de simulação\n",
    "def remove(lista):\n",
    "    lista_retorno__ = []\n",
    "    for i in lista_retorno:\n",
    "        i = remover_acentos(i)\n",
    "        i = i.lower()\n",
    "        lista_retorno__.append(i)\n",
    "    return lista_retorno__\n",
    "\n",
    "#Inicializa listas globais\n",
    "lista_retorno_consulta_substrings = []\n",
    "lista_saida = []\n",
    "lista_retorno_consulta_ = remove(lista_retorno)"
   ]
  },
  {
   "cell_type": "code",
   "execution_count": 3,
   "metadata": {},
   "outputs": [],
   "source": [
    "#Cria função que retorna o nome se estiver na lista de consulta\n",
    "def function_1(string):\n",
    "    lista_saida = []\n",
    "    lista_retorno_consulta_ = remove(lista_retorno)\n",
    "    string = remover_acentos(string).lower()\n",
    "    string = string.split()\n",
    "    for i in lista_retorno_consulta_:\n",
    "            i = i.split()\n",
    "            lista_retorno_consulta_substrings.append(i)\n",
    "    if string in lista_retorno_consulta_substrings:\n",
    "        s = ' '\n",
    "        lista_saida.append(s.join(string))\n",
    "        return lista_saida   "
   ]
  },
  {
   "cell_type": "code",
   "execution_count": 15,
   "metadata": {},
   "outputs": [],
   "source": [
    "#Cria função que retorna o nome se a entrada não estiver completamente (na ordem especificada) na lista de consulta\n",
    "#Não admite abreviações\n",
    "def function_2(string):\n",
    "    lista_retorno_consulta_substrings = []\n",
    "    lista_saida = []\n",
    "    lista_retorno_consulta_ = remove(lista_retorno)\n",
    "    string = remover_acentos(string).lower()\n",
    "    if string not in lista_retorno_consulta_:\n",
    "        string = string.split()\n",
    "        for i in lista_retorno_consulta_:\n",
    "            i = i.split()\n",
    "            lista_retorno_consulta_substrings.append(i)\n",
    "        for j in lista_retorno_consulta_substrings:\n",
    "            if len(string) == 1 and string[0] in j:\n",
    "                s = ' '\n",
    "                lista_saida.append(s.join(j))\n",
    "            elif len(string) > 1 and string[0] in j and string[1] in j:\n",
    "                s = ' '\n",
    "                lista_saida.append(s.join(j))\n",
    "        return list(set(lista_saida))\n",
    "    "
   ]
  },
  {
   "cell_type": "code",
   "execution_count": 5,
   "metadata": {},
   "outputs": [],
   "source": [
    "#Cria função que retorna o nome se a primeira string da entrada estiver na lista de consulta e\n",
    "#Se parte da segunda string também estiver, sendo que cada if checa a correspondencia entre parte\n",
    "#Da segunda string e os elementos que não o primeiro da lista_retorno_consulta_substrings\n",
    "def function_3(string):\n",
    "    lista_retorno_consulta_substrings = []\n",
    "    lista_saida = []\n",
    "    lista_retorno_consulta_ = remove(lista_retorno)\n",
    "    string = remover_acentos(string).lower()\n",
    "    string = string.split()\n",
    "    for i in lista_retorno_consulta_:\n",
    "            i = i.split()\n",
    "            lista_retorno_consulta_substrings.append(i)\n",
    "    for j in lista_retorno_consulta_substrings:\n",
    "        if len(string) > 1 and string[1] not in j and len(string[1]) == 1:\n",
    "                     for k in j:\n",
    "                        if string[0] in j and string[1][0:1] == k[0:1] and k != j[0]:\n",
    "                            s = ' '\n",
    "                            lista_saida.append(s.join(j))\n",
    "        if len(string) > 1 and string[1] not in j and len(string[1]) == 2:\n",
    "                     for k in j:\n",
    "                        if string[0] in j and string[1][0:2] == k[0:2] and k != j[0]:\n",
    "                            s = ' '\n",
    "                            lista_saida.append(s.join(j))\n",
    "        if len(string) > 1 and string[1] not in j and len(string[1]) == 3:\n",
    "                     for k in j:\n",
    "                        if string[0] in j and string[1][0:3] == k[0:3] and k != j[0]:\n",
    "                            s = ' '\n",
    "                            lista_saida.append(s.join(j))\n",
    "        if len(string) > 1 and string[1] not in j:\n",
    "                     for k in j:\n",
    "                        if string[0] in j and string[1][0:2] == k[0:2] and k != j[0]:\n",
    "                            s = ' '\n",
    "                            lista_saida.append(s.join(j))\n",
    "        if len(string) > 1 and string[1] not in j:\n",
    "                     for k in j:\n",
    "                        if string[0] in j and string[1][0:3] == k[0:3] and k != j[0]:\n",
    "                            s = ' '\n",
    "                            lista_saida.append(s.join(j))\n",
    "        if len(string) > 1 and string[1] in j:\n",
    "                      for k in j:\n",
    "                          if string[0] in j and string[1] in j:\n",
    "                            s = ' '\n",
    "                            lista_saida.append(s.join(j))\n",
    "    return list(set(lista_saida))    "
   ]
  },
  {
   "cell_type": "code",
   "execution_count": 6,
   "metadata": {},
   "outputs": [],
   "source": [
    "#Define a função consulta que une as três precendentes em uma só\n",
    "def consulta(string):\n",
    "    if string in lista_retorno_consulta_:\n",
    "         return function_1(string)\n",
    "    elif len(string.split()) == 1:\n",
    "        return function_2(string)\n",
    "    for j in lista_retorno_consulta_substrings:\n",
    "            if string.split()[1] in j:\n",
    "                return function_2(string)\n",
    "    else:\n",
    "         return function_3(string)"
   ]
  },
  {
   "cell_type": "code",
   "execution_count": 19,
   "metadata": {},
   "outputs": [
    {
     "data": {
      "text/plain": [
       "[]"
      ]
     },
     "execution_count": 19,
     "metadata": {},
     "output_type": "execute_result"
    }
   ],
   "source": [
    "consulta('nome') "
   ]
  }
 ],
 "metadata": {
  "kernelspec": {
   "display_name": "Python 3",
   "language": "python",
   "name": "python3"
  },
  "language_info": {
   "codemirror_mode": {
    "name": "ipython",
    "version": 3
   },
   "file_extension": ".py",
   "mimetype": "text/x-python",
   "name": "python",
   "nbconvert_exporter": "python",
   "pygments_lexer": "ipython3",
   "version": "3.7.3"
  }
 },
 "nbformat": 4,
 "nbformat_minor": 2
}
